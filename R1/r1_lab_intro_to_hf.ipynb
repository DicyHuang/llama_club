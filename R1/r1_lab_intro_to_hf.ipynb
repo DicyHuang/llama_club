{
 "cells": [
  {
   "cell_type": "code",
   "execution_count": 1,
   "metadata": {},
   "outputs": [],
   "source": [
    "import warnings\n",
    "warnings.filterwarnings('ignore')"
   ]
  },
  {
   "cell_type": "markdown",
   "metadata": {},
   "source": [
    "# **Intorduction to 🤗 Hugging Face and Transformers Library**"
   ]
  },
  {
   "cell_type": "markdown",
   "metadata": {},
   "source": [
    "\n",
    "NLP 是語言學和機器學習領域，專注於理解與人類語言相關的一切。 NLP 任務的目標不僅是單獨理解單字，而且能夠理解這些單字的上下文。</p>\n",
    "NLP 常見的任務有：\n",
    "   1. **Classifying whole sentences 文本分類（分類整句）**：將整個句子進行分類\n",
    "      - 情感分析：「這部電影很棒！」 -> positive\n",
    "      - 垃圾郵件檢測：「你的 iphone 已被嚴重損壞」-> spam \n",
    "   2. **Classifying each word in a sentence 單詞分類**：對一句話中的所有字進行分類\n",
    "      - 語法分析：「他跑得快」-> 他（代詞）跑（動詞）得（副詞）快（形容詞）\n",
    "      - 命名實體 NER\n",
    "   3. **Sentence Generation**\n",
    "      1. **填充遮蔽詞**：「像這種要求，我這輩子[mask]！」-> 沒聽過\n",
    "      2. **自動生成**：「今天天氣如何」-> 「今天天氣非常晴朗適合外出」\n",
    "      3. **翻譯**：「你好」-> 「Hello」\n",
    "      4. **摘要（問答）**\n",
    "         1. 從文本中提取答案：「法國的首都是巴黎。   首都在哪」-> 巴黎（藉由巴黎在原文的 index 抓出來）\n",
    "         2. 以生成模型進行摘要：「法國的首都是巴黎。   首都在哪」-> 首都在巴黎（使用生成模型，例如 chatgpt）"
   ]
  },
  {
   "cell_type": "markdown",
   "metadata": {},
   "source": [
    "## **`pipeline` in Hugging Face transformers**\n",
    "``transformers`` 為 🤗Hugging face 提供的套件，讓開發者可以創建、使用 Hugging face hub 上 NLP、LLM 的模型</p>\n",
    "> Hugging face hub 上的模型不只有 transformer，任何人都可以上傳任何類型的模型或資料集\n",
    "\n",
    "在 `transformers` 中最高階的函數是 `pipeline`，\n",
    "該函數將使用模型需要的預處理、推理與後處理串連起來，</p>\n",
    "傳入指定的 task，`pipeline` 會自動以適合的模型進行推理（預測）。"
   ]
  },
  {
   "cell_type": "markdown",
   "metadata": {},
   "source": [
    "可以從 [hub](https://huggingface.co/models) 透過 Tasks、Languages 篩選找到自己想要應用的模型</p>\n",
    "從 [task summary](https://huggingface.co/docs/transformers/task_summary) 找到支援的 NLP 相關任務"
   ]
  },
  {
   "cell_type": "code",
   "execution_count": 3,
   "metadata": {},
   "outputs": [
    {
     "name": "stderr",
     "output_type": "stream",
     "text": [
      "No model was supplied, defaulted to distilbert-base-uncased-finetuned-sst-2-english and revision af0f99b (https://huggingface.co/distilbert-base-uncased-finetuned-sst-2-english).\n",
      "Using a pipeline without specifying a model name and revision in production is not recommended.\n"
     ]
    },
    {
     "data": {
      "text/plain": [
       "[{'label': 'POSITIVE', 'score': 0.9998723268508911}]"
      ]
     },
     "execution_count": 3,
     "metadata": {},
     "output_type": "execute_result"
    }
   ],
   "source": [
    "from pprint import pprint\n",
    "from transformers import pipeline\n",
    "pipe = pipeline(task=\"sentiment-analysis\")\n",
    "pipe(\"this is awesome!!!\")"
   ]
  },
  {
   "cell_type": "markdown",
   "metadata": {},
   "source": [
    "在 ner 任務中，模型會對所有字詞（token） 進行分類</p>\n",
    "1. 該字詞（token）對應的 entity\n",
    "2. score 機率值\n",
    "3. 以及對應到文本的起始結束位置"
   ]
  },
  {
   "cell_type": "code",
   "execution_count": 4,
   "metadata": {},
   "outputs": [
    {
     "name": "stderr",
     "output_type": "stream",
     "text": [
      "No model was supplied, defaulted to dbmdz/bert-large-cased-finetuned-conll03-english and revision f2482bf (https://huggingface.co/dbmdz/bert-large-cased-finetuned-conll03-english).\n",
      "Using a pipeline without specifying a model name and revision in production is not recommended.\n"
     ]
    },
    {
     "name": "stdout",
     "output_type": "stream",
     "text": [
      "huggingface/tokenizers: The current process just got forked, after parallelism has already been used. Disabling parallelism to avoid deadlocks...\n",
      "To disable this warning, you can either:\n",
      "\t- Avoid using `tokenizers` before the fork if possible\n",
      "\t- Explicitly set the environment variable TOKENIZERS_PARALLELISM=(true | false)\n"
     ]
    },
    {
     "data": {
      "application/vnd.jupyter.widget-view+json": {
       "model_id": "788f68d9d0df4bc3866b3c191782a32e",
       "version_major": 2,
       "version_minor": 0
      },
      "text/plain": [
       "Downloading config.json:   0%|          | 0.00/998 [00:00<?, ?B/s]"
      ]
     },
     "metadata": {},
     "output_type": "display_data"
    },
    {
     "data": {
      "application/vnd.jupyter.widget-view+json": {
       "model_id": "35b1e99e60f547a7bcd44d220659fd22",
       "version_major": 2,
       "version_minor": 0
      },
      "text/plain": [
       "Downloading pytorch_model.bin:   0%|          | 0.00/1.33G [00:00<?, ?B/s]"
      ]
     },
     "metadata": {},
     "output_type": "display_data"
    },
    {
     "data": {
      "application/vnd.jupyter.widget-view+json": {
       "model_id": "160c4c7f9a1b4fff9cf6ce66d72bf8b1",
       "version_major": 2,
       "version_minor": 0
      },
      "text/plain": [
       "Downloading tokenizer_config.json:   0%|          | 0.00/60.0 [00:00<?, ?B/s]"
      ]
     },
     "metadata": {},
     "output_type": "display_data"
    },
    {
     "data": {
      "application/vnd.jupyter.widget-view+json": {
       "model_id": "db88b36bca84499aacc12f619bf77a2e",
       "version_major": 2,
       "version_minor": 0
      },
      "text/plain": [
       "Downloading vocab.txt:   0%|          | 0.00/213k [00:00<?, ?B/s]"
      ]
     },
     "metadata": {},
     "output_type": "display_data"
    },
    {
     "name": "stdout",
     "output_type": "stream",
     "text": [
      "[{'end': 2,\n",
      "  'entity': 'I-ORG',\n",
      "  'index': 1,\n",
      "  'score': 0.9967675,\n",
      "  'start': 0,\n",
      "  'word': 'Hu'},\n",
      " {'end': 7,\n",
      "  'entity': 'I-ORG',\n",
      "  'index': 2,\n",
      "  'score': 0.9293027,\n",
      "  'start': 2,\n",
      "  'word': '##gging'},\n",
      " {'end': 12,\n",
      "  'entity': 'I-ORG',\n",
      "  'index': 3,\n",
      "  'score': 0.97632104,\n",
      "  'start': 8,\n",
      "  'word': 'Face'},\n",
      " {'end': 24,\n",
      "  'entity': 'I-MISC',\n",
      "  'index': 6,\n",
      "  'score': 0.99828726,\n",
      "  'start': 18,\n",
      "  'word': 'French'},\n",
      " {'end': 45,\n",
      "  'entity': 'I-LOC',\n",
      "  'index': 10,\n",
      "  'score': 0.99896204,\n",
      "  'start': 42,\n",
      "  'word': 'New'},\n",
      " {'end': 50,\n",
      "  'entity': 'I-LOC',\n",
      "  'index': 11,\n",
      "  'score': 0.9986792,\n",
      "  'start': 46,\n",
      "  'word': 'York'},\n",
      " {'end': 55,\n",
      "  'entity': 'I-LOC',\n",
      "  'index': 12,\n",
      "  'score': 0.9992418,\n",
      "  'start': 51,\n",
      "  'word': 'City'}]\n"
     ]
    }
   ],
   "source": [
    "ner_pipe = pipeline(task=\"ner\", \n",
    "                # model='dslim/bert-base-NER'\n",
    "                )\n",
    "ner_pipe(\"Hugging Face is a French company based in New York City.\")"
   ]
  },
  {
   "cell_type": "markdown",
   "metadata": {},
   "source": [
    "### **Practice #1**\n",
    "\n",
    "使用 question answering 以 pipeline 做 QA 任務：\n",
    "- 文本：the name of repo is bert-base-uncased\n",
    "- 目標：問模型 repo 的名稱\n",
    "- 預期答案：bert-base-uncased"
   ]
  },
  {
   "cell_type": "code",
   "execution_count": null,
   "metadata": {},
   "outputs": [],
   "source": [
    "# TODO\n",
    "\n"
   ]
  }
 ],
 "metadata": {
  "kernelspec": {
   "display_name": "llm",
   "language": "python",
   "name": "python3"
  },
  "language_info": {
   "codemirror_mode": {
    "name": "ipython",
    "version": 3
   },
   "file_extension": ".py",
   "mimetype": "text/x-python",
   "name": "python",
   "nbconvert_exporter": "python",
   "pygments_lexer": "ipython3",
   "version": "3.8.15"
  }
 },
 "nbformat": 4,
 "nbformat_minor": 2
}
